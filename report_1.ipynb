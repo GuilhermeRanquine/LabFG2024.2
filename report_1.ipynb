{
 "cells": [
  {
   "cell_type": "markdown",
   "metadata": {},
   "source": [
    "# Bibliotecas"
   ]
  },
  {
   "cell_type": "code",
   "execution_count": 162,
   "metadata": {},
   "outputs": [],
   "source": [
    "import numpy as np\n",
    "import pandas as pd\n",
    "import matplotlib\n",
    "import matplotlib.pyplot as plt\n",
    "import statistics\n",
    "import math\n",
    "import scipy.stats as stats"
   ]
  },
  {
   "cell_type": "markdown",
   "metadata": {},
   "source": [
    "# Listas"
   ]
  },
  {
   "cell_type": "code",
   "execution_count": 163,
   "metadata": {},
   "outputs": [],
   "source": [
    "idade = [17,18,18,18,18,18,19,19,19,19,19,20,20,20,21,21,23] # idade (anos)\n",
    "massa = [47,49,54,55,55,56,56,57,60,60,70,72,73,75,78,91,93] # massa (Kg)\n",
    "altura = [1.53,1.57,1.60,1.60,1.63,1.65,1.71,1.71,1.72,1.73,1.73,1.73,1.75,1.75,1.77,1.80,1.85] # altura (cm)"
   ]
  },
  {
   "cell_type": "markdown",
   "metadata": {},
   "source": [
    "# Frequências"
   ]
  },
  {
   "cell_type": "code",
   "execution_count": 164,
   "metadata": {},
   "outputs": [
    {
     "name": "stdout",
     "output_type": "stream",
     "text": [
      "17\n",
      "17\n",
      "17\n"
     ]
    }
   ],
   "source": [
    "print(len(idade))\n",
    "print(len(massa))\n",
    "print(len(altura))"
   ]
  },
  {
   "cell_type": "markdown",
   "metadata": {},
   "source": [
    "# Tabela Organizada"
   ]
  },
  {
   "cell_type": "code",
   "execution_count": 165,
   "metadata": {},
   "outputs": [
    {
     "data": {
      "text/html": [
       "<div>\n",
       "<style scoped>\n",
       "    .dataframe tbody tr th:only-of-type {\n",
       "        vertical-align: middle;\n",
       "    }\n",
       "\n",
       "    .dataframe tbody tr th {\n",
       "        vertical-align: top;\n",
       "    }\n",
       "\n",
       "    .dataframe thead th {\n",
       "        text-align: right;\n",
       "    }\n",
       "</style>\n",
       "<table border=\"1\" class=\"dataframe\">\n",
       "  <thead>\n",
       "    <tr style=\"text-align: right;\">\n",
       "      <th></th>\n",
       "      <th>Idade</th>\n",
       "      <th>Massa</th>\n",
       "      <th>Altura</th>\n",
       "    </tr>\n",
       "  </thead>\n",
       "  <tbody>\n",
       "    <tr>\n",
       "      <th>0</th>\n",
       "      <td>17</td>\n",
       "      <td>47</td>\n",
       "      <td>1.53</td>\n",
       "    </tr>\n",
       "    <tr>\n",
       "      <th>1</th>\n",
       "      <td>18</td>\n",
       "      <td>49</td>\n",
       "      <td>1.57</td>\n",
       "    </tr>\n",
       "    <tr>\n",
       "      <th>2</th>\n",
       "      <td>18</td>\n",
       "      <td>54</td>\n",
       "      <td>1.60</td>\n",
       "    </tr>\n",
       "    <tr>\n",
       "      <th>3</th>\n",
       "      <td>18</td>\n",
       "      <td>55</td>\n",
       "      <td>1.60</td>\n",
       "    </tr>\n",
       "    <tr>\n",
       "      <th>4</th>\n",
       "      <td>18</td>\n",
       "      <td>55</td>\n",
       "      <td>1.63</td>\n",
       "    </tr>\n",
       "    <tr>\n",
       "      <th>5</th>\n",
       "      <td>18</td>\n",
       "      <td>56</td>\n",
       "      <td>1.65</td>\n",
       "    </tr>\n",
       "    <tr>\n",
       "      <th>6</th>\n",
       "      <td>19</td>\n",
       "      <td>56</td>\n",
       "      <td>1.71</td>\n",
       "    </tr>\n",
       "    <tr>\n",
       "      <th>7</th>\n",
       "      <td>19</td>\n",
       "      <td>57</td>\n",
       "      <td>1.71</td>\n",
       "    </tr>\n",
       "    <tr>\n",
       "      <th>8</th>\n",
       "      <td>19</td>\n",
       "      <td>60</td>\n",
       "      <td>1.72</td>\n",
       "    </tr>\n",
       "    <tr>\n",
       "      <th>9</th>\n",
       "      <td>19</td>\n",
       "      <td>60</td>\n",
       "      <td>1.73</td>\n",
       "    </tr>\n",
       "    <tr>\n",
       "      <th>10</th>\n",
       "      <td>19</td>\n",
       "      <td>70</td>\n",
       "      <td>1.73</td>\n",
       "    </tr>\n",
       "    <tr>\n",
       "      <th>11</th>\n",
       "      <td>20</td>\n",
       "      <td>72</td>\n",
       "      <td>1.73</td>\n",
       "    </tr>\n",
       "    <tr>\n",
       "      <th>12</th>\n",
       "      <td>20</td>\n",
       "      <td>73</td>\n",
       "      <td>1.75</td>\n",
       "    </tr>\n",
       "    <tr>\n",
       "      <th>13</th>\n",
       "      <td>20</td>\n",
       "      <td>75</td>\n",
       "      <td>1.75</td>\n",
       "    </tr>\n",
       "    <tr>\n",
       "      <th>14</th>\n",
       "      <td>21</td>\n",
       "      <td>78</td>\n",
       "      <td>1.77</td>\n",
       "    </tr>\n",
       "    <tr>\n",
       "      <th>15</th>\n",
       "      <td>21</td>\n",
       "      <td>91</td>\n",
       "      <td>1.80</td>\n",
       "    </tr>\n",
       "    <tr>\n",
       "      <th>16</th>\n",
       "      <td>23</td>\n",
       "      <td>93</td>\n",
       "      <td>1.85</td>\n",
       "    </tr>\n",
       "  </tbody>\n",
       "</table>\n",
       "</div>"
      ],
      "text/plain": [
       "    Idade  Massa  Altura\n",
       "0      17     47    1.53\n",
       "1      18     49    1.57\n",
       "2      18     54    1.60\n",
       "3      18     55    1.60\n",
       "4      18     55    1.63\n",
       "5      18     56    1.65\n",
       "6      19     56    1.71\n",
       "7      19     57    1.71\n",
       "8      19     60    1.72\n",
       "9      19     60    1.73\n",
       "10     19     70    1.73\n",
       "11     20     72    1.73\n",
       "12     20     73    1.75\n",
       "13     20     75    1.75\n",
       "14     21     78    1.77\n",
       "15     21     91    1.80\n",
       "16     23     93    1.85"
      ]
     },
     "execution_count": 165,
     "metadata": {},
     "output_type": "execute_result"
    }
   ],
   "source": [
    "pd.DataFrame({'Idade':idade,'Massa':massa,'Altura':altura, })"
   ]
  },
  {
   "cell_type": "markdown",
   "metadata": {},
   "source": [
    "# Histogramas"
   ]
  },
  {
   "cell_type": "markdown",
   "metadata": {},
   "source": [
    "## Idades"
   ]
  },
  {
   "cell_type": "code",
   "execution_count": 166,
   "metadata": {},
   "outputs": [
    {
     "data": {
      "image/png": "[encoded data removed]",
      "text/plain": [
       "<Figure size 640x480 with 1 Axes>"
      ]
     },
     "metadata": {},
     "output_type": "display_data"
    }
   ],
   "source": [
    "idades_array = np.array(idade)\n",
    "counts, bins, patches = plt.hist(idades_array, bins=np.arange(15, 25, 1), color='skyblue', edgecolor='black')\n",
    "plt.xlabel('Idade')\n",
    "plt.ylabel('Frequência')\n",
    "plt.title('Histograma de Idades')\n",
    "plt.show()"
   ]
  },
  {
   "cell_type": "markdown",
   "metadata": {},
   "source": [
    "## Massa (Kg)"
   ]
  },
  {
   "cell_type": "code",
   "execution_count": 167,
   "metadata": {},
   "outputs": [
    {
     "data": {
      "image/png": "[encoded data removed]",
      "text/plain": [
       "<Figure size 640x480 with 1 Axes>"
      ]
     },
     "metadata": {},
     "output_type": "display_data"
    }
   ],
   "source": [
    "massas_array = np.array(massa)\n",
    "counts, bins, patches = plt.hist(massas_array, bins=np.arange(45, 100, 5), color='skyblue', edgecolor='black')\n",
    "plt.xlabel('Massa')\n",
    "plt.ylabel('Frequência')\n",
    "plt.title('Histograma de Massas')\n",
    "plt.show()"
   ]
  },
  {
   "cell_type": "markdown",
   "metadata": {},
   "source": [
    "## Altura"
   ]
  },
  {
   "cell_type": "code",
   "execution_count": 168,
   "metadata": {},
   "outputs": [
    {
     "data": {
      "image/png": "[encoded data removed]",
      "text/plain": [
       "<Figure size 640x480 with 1 Axes>"
      ]
     },
     "metadata": {},
     "output_type": "display_data"
    }
   ],
   "source": [
    "alturas_array = np.array(altura)\n",
    "counts, bins, patches = plt.hist(alturas_array, bins=np.arange(1.40, 2.00, 0.05), color='skyblue', edgecolor='black')\n",
    "plt.xlabel('Altura')\n",
    "plt.ylabel('Frequência')\n",
    "plt.title('Histograma de Alturas')\n",
    "plt.show()"
   ]
  },
  {
   "cell_type": "markdown",
   "metadata": {},
   "source": [
    "# Parâmetros de posição"
   ]
  },
  {
   "cell_type": "markdown",
   "metadata": {},
   "source": [
    "## Média"
   ]
  },
  {
   "cell_type": "code",
   "execution_count": 169,
   "metadata": {},
   "outputs": [
    {
     "name": "stdout",
     "output_type": "stream",
     "text": [
      "A média das idades é: 19.235294117647058 anos\n",
      "A média das massas é: 64.76470588235294 Kg\n",
      "A média das alturas é: 1.6958823529411766 cm\n"
     ]
    }
   ],
   "source": [
    "media_idades = np.sum(idade)/len(idade)\n",
    "media_massas = np.sum(massa)/len(massa)\n",
    "media_altura = np.sum(altura)/len(altura)\n",
    "\n",
    "print(\"A média das idades é:\", media_idades, \"anos\")\n",
    "print(\"A média das massas é:\", media_massas, \"Kg\")\n",
    "print(\"A média das alturas é:\", media_altura, \"cm\")"
   ]
  },
  {
   "cell_type": "markdown",
   "metadata": {},
   "source": [
    "## Moda"
   ]
  },
  {
   "cell_type": "code",
   "execution_count": 170,
   "metadata": {},
   "outputs": [
    {
     "name": "stdout",
     "output_type": "stream",
     "text": [
      "Moda das idades: 18 anos.\n",
      "Moda das massas: 55 kg.\n",
      "Moda das alturas: 1.73 cm.\n"
     ]
    }
   ],
   "source": [
    "moda_idade = statistics.mode(idade)\n",
    "moda_massa = statistics.mode(massa)\n",
    "moda_altura = statistics.mode(altura)\n",
    "print(\"Moda das idades:\", moda_idade, \"anos.\")\n",
    "print(\"Moda das massas:\",moda_massa, \"kg.\")\n",
    "print(\"Moda das alturas:\",moda_altura, \"cm.\")"
   ]
  },
  {
   "cell_type": "markdown",
   "metadata": {},
   "source": [
    "## Média Quadrática"
   ]
  },
  {
   "cell_type": "markdown",
   "metadata": {},
   "source": [
    "### Definindo a função"
   ]
  },
  {
   "cell_type": "code",
   "execution_count": 171,
   "metadata": {},
   "outputs": [],
   "source": [
    "def media_quadratica(lista):\n",
    "    \"\"\"Calcula a média quadrática de uma lista de números.\"\"\"\n",
    "    quadrados = [x**2 for x in lista]\n",
    "    media_quadrados = sum(quadrados) / len(quadrados)\n",
    "    return math.sqrt(media_quadrados)"
   ]
  },
  {
   "cell_type": "markdown",
   "metadata": {},
   "source": [
    "### Resultados"
   ]
  },
  {
   "cell_type": "code",
   "execution_count": 172,
   "metadata": {},
   "outputs": [
    {
     "name": "stdout",
     "output_type": "stream",
     "text": [
      "A média quadrática das idades é: 19.288826390670113\n",
      "A média quadrática das massas é: 66.13222049980851\n",
      "A média quadrática das alturas é: 1.6979381960622297\n"
     ]
    }
   ],
   "source": [
    "rms_idades = media_quadratica(idade)\n",
    "rms_massas = media_quadratica(massa)\n",
    "rms_alturas = media_quadratica(altura)\n",
    "\n",
    "print(\"A média quadrática das idades é:\", rms_idades)\n",
    "print(\"A média quadrática das massas é:\", rms_massas)\n",
    "print(\"A média quadrática das alturas é:\", rms_alturas)"
   ]
  },
  {
   "cell_type": "markdown",
   "metadata": {},
   "source": [
    "## Mediana"
   ]
  },
  {
   "cell_type": "code",
   "execution_count": 173,
   "metadata": {},
   "outputs": [
    {
     "name": "stdout",
     "output_type": "stream",
     "text": [
      "Mediana da idade: 19.0\n",
      "Mediana da massa: 60.0\n",
      "Mediana da altura: 1.72\n"
     ]
    }
   ],
   "source": [
    "print(\"Mediana da idade:\",np.median(idade))\n",
    "print(\"Mediana da massa:\",np.median(massa))\n",
    "print(\"Mediana da altura:\",np.median(altura))"
   ]
  },
  {
   "cell_type": "markdown",
   "metadata": {},
   "source": [
    "# Parâmetros de Dispersão"
   ]
  },
  {
   "cell_type": "markdown",
   "metadata": {},
   "source": [
    "## Amplitude"
   ]
  },
  {
   "cell_type": "markdown",
   "metadata": {},
   "source": [
    "### Definindo a Função"
   ]
  },
  {
   "cell_type": "code",
   "execution_count": 174,
   "metadata": {},
   "outputs": [],
   "source": [
    "def calcular_amplitude(lista):\n",
    "  \"\"\"Calcula a amplitude de uma lista de números.\"\"\"\n",
    "  return max(lista) - min(lista)"
   ]
  },
  {
   "cell_type": "markdown",
   "metadata": {},
   "source": [
    "### Resultados"
   ]
  },
  {
   "cell_type": "code",
   "execution_count": 175,
   "metadata": {},
   "outputs": [
    {
     "name": "stdout",
     "output_type": "stream",
     "text": [
      "A amplitude das idades é: 6\n",
      "A amplitude das massas é: 46\n",
      "A amplitude das alturas é: 0.32000000000000006\n"
     ]
    }
   ],
   "source": [
    "amp_idades = calcular_amplitude(idade)\n",
    "amp_massas = calcular_amplitude(massa)\n",
    "amp_alturas = calcular_amplitude(altura)\n",
    "\n",
    "print(\"A amplitude das idades é:\", amp_idades)\n",
    "print(\"A amplitude das massas é:\", amp_massas)\n",
    "print(\"A amplitude das alturas é:\", amp_alturas)"
   ]
  },
  {
   "cell_type": "markdown",
   "metadata": {},
   "source": [
    "## Desvio Médio"
   ]
  },
  {
   "cell_type": "markdown",
   "metadata": {},
   "source": [
    "### Definindo a Função"
   ]
  },
  {
   "cell_type": "code",
   "execution_count": 176,
   "metadata": {},
   "outputs": [],
   "source": [
    "def desvio_medio(lista):\n",
    "  \"\"\"Calcula o desvio médio de uma lista de números.\"\"\"\n",
    "  media = sum(lista) / len(lista)\n",
    "  desvios = [abs(x - media) for x in lista]\n",
    "  return sum(desvios) / len(lista)"
   ]
  },
  {
   "cell_type": "markdown",
   "metadata": {},
   "source": [
    "### Resultados"
   ]
  },
  {
   "cell_type": "code",
   "execution_count": 177,
   "metadata": {},
   "outputs": [
    {
     "name": "stdout",
     "output_type": "stream",
     "text": [
      "O desvio médio das idades é: 1.1280276816608994\n",
      "O desvio médio das massas é: 11.605536332179932\n",
      "O desvio médio das alturas é: 0.07003460207612452\n"
     ]
    }
   ],
   "source": [
    "desvio_medio_idade = desvio_medio(idade)\n",
    "desvio_medio_massa = desvio_medio(massa)\n",
    "desvio_medio_altura = desvio_medio(altura)\n",
    "\n",
    "print(\"O desvio médio das idades é:\", desvio_medio_idade)\n",
    "print(\"O desvio médio das massas é:\", desvio_medio_massa)\n",
    "print(\"O desvio médio das alturas é:\", desvio_medio_altura)"
   ]
  },
  {
   "cell_type": "markdown",
   "metadata": {},
   "source": [
    "## Variância"
   ]
  },
  {
   "cell_type": "markdown",
   "metadata": {},
   "source": [
    "### Definindo Função"
   ]
  },
  {
   "cell_type": "code",
   "execution_count": 178,
   "metadata": {},
   "outputs": [],
   "source": [
    "def variancia(lista):\n",
    "  \"\"\"Calcula a variância de uma lista de números.\"\"\"\n",
    "  media = sum(lista) / len(lista)\n",
    "  quadrados_dos_desvios = [(x - media)**2 for x in lista]\n",
    "  return sum(quadrados_dos_desvios) / len(lista)"
   ]
  },
  {
   "cell_type": "markdown",
   "metadata": {},
   "source": [
    "### Resultados"
   ]
  },
  {
   "cell_type": "code",
   "execution_count": 179,
   "metadata": {},
   "outputs": [
    {
     "name": "stdout",
     "output_type": "stream",
     "text": [
      "A variância das idades é: 2.062283737024221\n",
      "A variância das massas é: 179.00346020761245\n",
      "A variância das alturas é: 0.006977162629757784\n"
     ]
    }
   ],
   "source": [
    "var_idade = variancia(idade)\n",
    "var_massa = variancia(massa)\n",
    "var_altura = variancia(altura)\n",
    "\n",
    "print(\"A variância das idades é:\", var_idade)\n",
    "print(\"A variância das massas é:\", var_massa)\n",
    "print(\"A variância das alturas é:\", var_altura)"
   ]
  },
  {
   "cell_type": "markdown",
   "metadata": {},
   "source": [
    "## Desvio Padrão"
   ]
  },
  {
   "cell_type": "code",
   "execution_count": 180,
   "metadata": {},
   "outputs": [
    {
     "name": "stdout",
     "output_type": "stream",
     "text": [
      "O desvio padrão das idades é: 1.436065366556906\n",
      "O desvio padrão das massas é: 13.37921747366461\n",
      "O desvio padrão das alturas é: 0.08352941176470588\n"
     ]
    }
   ],
   "source": [
    "std_idades = np.std(idades_array)\n",
    "std_massas = np.std(massas_array)\n",
    "std_alturas = np.std(alturas_array)\n",
    "\n",
    "print(\"O desvio padrão das idades é:\", std_idades)\n",
    "print(\"O desvio padrão das massas é:\", std_massas)\n",
    "print(\"O desvio padrão das alturas é:\", std_alturas)"
   ]
  },
  {
   "cell_type": "markdown",
   "metadata": {},
   "source": [
    "## Largura de meia altura"
   ]
  },
  {
   "cell_type": "markdown",
   "metadata": {},
   "source": [
    "### Idades"
   ]
  },
  {
   "cell_type": "markdown",
   "metadata": {},
   "source": [
    "#### Criando um Histograma"
   ]
  },
  {
   "cell_type": "code",
   "execution_count": 181,
   "metadata": {},
   "outputs": [],
   "source": [
    "counts, bins = np.histogram(idade, bins=np.arange(15, 25, 1))"
   ]
  },
  {
   "cell_type": "markdown",
   "metadata": {},
   "source": [
    "#### Encontrando o pico e meia altura"
   ]
  },
  {
   "cell_type": "code",
   "execution_count": 182,
   "metadata": {},
   "outputs": [],
   "source": [
    "peak_index = np.argmax(counts)\n",
    "half_height = counts[peak_index] / 2"
   ]
  },
  {
   "cell_type": "markdown",
   "metadata": {},
   "source": [
    "#### Encontrando os pontos onde a frequência cruza a meia altura"
   ]
  },
  {
   "cell_type": "code",
   "execution_count": 183,
   "metadata": {},
   "outputs": [],
   "source": [
    "left_index = np.where(counts[:peak_index] <= half_height)[0][-1]\n",
    "right_index = np.where(counts[peak_index:] <= half_height)[0][0] + peak_index"
   ]
  },
  {
   "cell_type": "markdown",
   "metadata": {},
   "source": [
    "#### Calculando a largura de meia altura aproximada"
   ]
  },
  {
   "cell_type": "code",
   "execution_count": 184,
   "metadata": {},
   "outputs": [],
   "source": [
    "fwhm_idades = bins[right_index] - bins[left_index]"
   ]
  },
  {
   "cell_type": "markdown",
   "metadata": {},
   "source": [
    "#### Resultados"
   ]
  },
  {
   "cell_type": "code",
   "execution_count": 185,
   "metadata": {},
   "outputs": [
    {
     "name": "stdout",
     "output_type": "stream",
     "text": [
      "Largura de meia altura aproximada: 4\n"
     ]
    }
   ],
   "source": [
    "print(\"Largura de meia altura aproximada:\", fwhm_idades)"
   ]
  },
  {
   "cell_type": "markdown",
   "metadata": {},
   "source": [
    "### Massas"
   ]
  },
  {
   "cell_type": "code",
   "execution_count": 186,
   "metadata": {},
   "outputs": [],
   "source": [
    "counts, bins = np.histogram(massa, bins=np.arange(45, 100, 5))"
   ]
  },
  {
   "cell_type": "code",
   "execution_count": 187,
   "metadata": {},
   "outputs": [],
   "source": [
    "peak_index = np.argmax(counts)\n",
    "half_height = counts[peak_index] / 2"
   ]
  },
  {
   "cell_type": "code",
   "execution_count": 188,
   "metadata": {},
   "outputs": [],
   "source": [
    "left_index = np.where(counts[:peak_index] <= half_height)[0][-1]\n",
    "right_index = np.where(counts[peak_index:] <= half_height)[0][0] + peak_index"
   ]
  },
  {
   "cell_type": "code",
   "execution_count": 189,
   "metadata": {},
   "outputs": [
    {
     "name": "stdout",
     "output_type": "stream",
     "text": [
      "Largura de meia altura aproximada: 10\n"
     ]
    }
   ],
   "source": [
    "fwhm_massas = bins[right_index] - bins[left_index]\n",
    "\n",
    "print(\"Largura de meia altura aproximada:\", fwhm_massas)"
   ]
  },
  {
   "cell_type": "markdown",
   "metadata": {},
   "source": [
    "\n",
    "### Altura"
   ]
  },
  {
   "cell_type": "code",
   "execution_count": 191,
   "metadata": {},
   "outputs": [],
   "source": [
    "counts, bins = np.histogram(altura, bins=np.arange(1.40, 2.00, 0.05))"
   ]
  },
  {
   "cell_type": "code",
   "execution_count": 192,
   "metadata": {},
   "outputs": [],
   "source": [
    "peak_index = np.argmax(counts)\n",
    "half_height = counts[peak_index] / 2"
   ]
  },
  {
   "cell_type": "code",
   "execution_count": 193,
   "metadata": {},
   "outputs": [],
   "source": [
    "left_index = np.where(counts[:peak_index] <= half_height)[0][-1]\n",
    "right_index = np.where(counts[peak_index:] <= half_height)[0][0] + peak_index"
   ]
  },
  {
   "cell_type": "code",
   "execution_count": 194,
   "metadata": {},
   "outputs": [
    {
     "name": "stdout",
     "output_type": "stream",
     "text": [
      "Largura de meia altura aproximada: 0.10000000000000009\n"
     ]
    }
   ],
   "source": [
    "fwhm_alturas = bins[right_index] - bins[left_index]\n",
    "\n",
    "print(\"Largura de meia altura aproximada:\", fwhm_alturas)"
   ]
  },
  {
   "cell_type": "markdown",
   "metadata": {},
   "source": [
    "# Créditos"
   ]
  },
  {
   "cell_type": "markdown",
   "metadata": {},
   "source": [
    "Escrito por: Guilherme Macedo Ranquine <br>\n",
    "Turma: Física Geral 2024.2 <br>\n",
    "Professor: Márcia Begalli <br>"
   ]
  }
 ],
 "metadata": {
  "kernelspec": {
   "display_name": "Python 3",
   "language": "python",
   "name": "python3"
  },
  "language_info": {
   "codemirror_mode": {
    "name": "ipython",
    "version": 3
   },
   "file_extension": ".py",
   "mimetype": "text/x-python",
   "name": "python",
   "nbconvert_exporter": "python",
   "pygments_lexer": "ipython3",
   "version": "3.10.12"
  }
 },
 "nbformat": 4,
 "nbformat_minor": 2
}
